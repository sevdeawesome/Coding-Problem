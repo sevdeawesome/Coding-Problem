{
 "cells": [
  {
   "cell_type": "code",
   "execution_count": null,
   "metadata": {},
   "outputs": [],
   "source": [
    "\"\"\"\n",
    "Using Python, construct a class without importing any modules given the following guidelines:\n",
    "Given 2 inputs, data and shape, construct a tensor using nested lists.\n",
    "A tensor a general term for n-dimension matrix. (order goes scalar, vector, matrix, tensor)\n",
    "Data and shape inputs are given as lists of numbers. Data can be any number (int or float), but shape needs to be a list of positive integers.\n",
    "Data and shape inputs can be lists of any length.\n",
    "The constructed tensor can be saved as an instance variable, printed in standard output, or both.\n",
    "If too many data numbers, cut it off after the tensor fills up. If not enough, pad the tensor w/ zeroes.\n",
    "Output an empty list if the shape given is also an empty list ([])\n",
    "\n",
    "\"\"\""
   ]
  },
  {
   "cell_type": "code",
   "execution_count": 37,
   "metadata": {},
   "outputs": [],
   "source": [
    "class Tensor:\n",
    "    def __init__(self, data, shape):\n",
    "        self.data = data\n",
    "        self.shape = shape\n",
    "        self.tensor = self.construct_tensor(data, shape)\n",
    "    \n",
    "    def chunk(self, lst, n):\n",
    "        \"\"\"\n",
    "        Time Complexity: O(n*n)\n",
    "        Space Complexity: O(n)\n",
    "        Input: list of elements (list), number of elements per chunk (int)\n",
    "        Returns a list of lists containing chunks of size n from lst\n",
    "        \"\"\"\n",
    "        chunkedData = []\n",
    "        for i in range(0, len(lst), n):\n",
    "            chunkedData.append(lst[i:i+n])\n",
    "        return chunkedData\n",
    "\n",
    "    def construct_tensor(self, data, shape):\n",
    "        '''\n",
    "        Reshapes data into a tensor based on shape and returns it as a list of lists (of lists of lists of lists... depending on the shape)\n",
    "        Time Complexity: O(s*n*n) where s = number of elements in shape, n = number of elements in data\n",
    "        '''\n",
    "        # Step (1) Calculate tensor length\n",
    "        # tensor output length = product of all shape numbers\n",
    "        tensor_length = 1\n",
    "        for i in shape:\n",
    "            # O(s) where s is the length of the shape list\n",
    "            tensor_length *= i\n",
    "        \n",
    "        \n",
    "        # Step (2) if tensor length is greater than data length, cut off data\n",
    "        # if tensor length is less than data length, pad data with duplicate of data \n",
    "        if tensor_length > len(data):\n",
    "            chunkedData = data * (1 + tensor_length // len(data))\n",
    "        elif tensor_length < len(data):\n",
    "            chunkedData = data[:tensor_length] \n",
    "        else:\n",
    "            chunkedData = data\n",
    "\n",
    "        # Step (3) Chunk tensor data into chunks of size equal to shape\n",
    "        for i in range(len(shape) -1 , 0 , -1):\n",
    "            chunkedData = self.chunk(chunkedData, shape[i])\n",
    "\n",
    "        return chunkedData[:shape[0]]\n",
    "\n",
    "        \n",
    "\n"
   ]
  },
  {
   "cell_type": "code",
   "execution_count": 38,
   "metadata": {},
   "outputs": [
    {
     "name": "stdout",
     "output_type": "stream",
     "text": [
      "[[0, 1], [2, 3], [4, 5], [0.1, 0.2], [-3, -2]]\n"
     ]
    }
   ],
   "source": [
    "shape = [5, 2]\n",
    "data = [0, 1, 2, 3, 4, 5, 0.1, 0.2, -3, -2, -1, 3, 2, 1,1,3,4]\n",
    "tensor = Tensor(data, shape)\n",
    "print(tensor.tensor)"
   ]
  },
  {
   "cell_type": "code",
   "execution_count": 39,
   "metadata": {},
   "outputs": [
    {
     "name": "stdout",
     "output_type": "stream",
     "text": [
      "[[[0, 1], [2, 3], [4, 5]], [[0.1, 0.2], [-3, 0], [1, 2]]]\n"
     ]
    }
   ],
   "source": [
    "data0 = [0, 1, 2, 3, 4, 5, 0.1, 0.2, -3]\n",
    "shape0 = [2, 3, 2]\n",
    "tensor0 = Tensor(data0, shape0)\n",
    "print(tensor0.tensor)"
   ]
  },
  {
   "cell_type": "code",
   "execution_count": null,
   "metadata": {},
   "outputs": [],
   "source": []
  },
  {
   "cell_type": "code",
   "execution_count": null,
   "metadata": {},
   "outputs": [],
   "source": []
  },
  {
   "cell_type": "code",
   "execution_count": null,
   "metadata": {},
   "outputs": [],
   "source": []
  },
  {
   "cell_type": "code",
   "execution_count": null,
   "metadata": {},
   "outputs": [],
   "source": []
  },
  {
   "cell_type": "code",
   "execution_count": null,
   "metadata": {},
   "outputs": [],
   "source": []
  },
  {
   "cell_type": "code",
   "execution_count": null,
   "metadata": {},
   "outputs": [],
   "source": []
  },
  {
   "cell_type": "code",
   "execution_count": null,
   "metadata": {},
   "outputs": [],
   "source": []
  },
  {
   "cell_type": "code",
   "execution_count": null,
   "metadata": {},
   "outputs": [],
   "source": []
  },
  {
   "cell_type": "code",
   "execution_count": null,
   "metadata": {},
   "outputs": [],
   "source": []
  }
 ],
 "metadata": {
  "interpreter": {
   "hash": "ca49ff0ffe1808df299e2fa61a14697f92eb8fb3e9a660d64db98d3fdcc9e2a2"
  },
  "kernelspec": {
   "display_name": "Python 3.8.8 ('base')",
   "language": "python",
   "name": "python3"
  },
  "language_info": {
   "codemirror_mode": {
    "name": "ipython",
    "version": 3
   },
   "file_extension": ".py",
   "mimetype": "text/x-python",
   "name": "python",
   "nbconvert_exporter": "python",
   "pygments_lexer": "ipython3",
   "version": "3.8.8"
  },
  "orig_nbformat": 4
 },
 "nbformat": 4,
 "nbformat_minor": 2
}
