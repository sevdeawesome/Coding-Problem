{
 "cells": [
  {
   "cell_type": "code",
   "execution_count": null,
   "metadata": {},
   "outputs": [],
   "source": [
    "\"\"\"\n",
    "Using Python, construct a class without importing any modules given the following guidelines:\n",
    "Given 2 inputs, data and shape, construct a tensor using nested lists.\n",
    "A tensor a general term for n-dimension matrix. (order goes scalar, vector, matrix, tensor)\n",
    "Data and shape inputs are given as lists of numbers. Data can be any number (int or float), but shape needs to be a list of positive integers.\n",
    "Data and shape inputs can be lists of any length.\n",
    "The constructed tensor can be saved as an instance variable, printed in standard output, or both.\n",
    "If too many data numbers, cut it off after the tensor fills up. If not enough, pad the tensor w/ zeroes.\n",
    "Output an empty list if the shape given is also an empty list ([])\n",
    "\n",
    "\"\"\""
   ]
  },
  {
   "cell_type": "code",
   "execution_count": null,
   "metadata": {},
   "outputs": [],
   "source": [
    "class Tensor:\n",
    "    def __init__(self, data, shape):\n",
    "        self.data = data\n",
    "        self.shape = shape\n",
    "        self.tensor = self.construct_tensor(data, shape)\n",
    "\n",
    "    def construct_tensor(self, data, shape):\n",
    "        if len(shape) == 0:\n",
    "            return []\n",
    "        else:\n",
    "            tensor = []\n",
    "            for i in range(shape[0]):\n",
    "                tensor.append(self.construct_tensor(data, shape[1:]))\n",
    "            return tensor"
   ]
  },
  {
   "cell_type": "code",
   "execution_count": null,
   "metadata": {},
   "outputs": [],
   "source": []
  },
  {
   "cell_type": "code",
   "execution_count": 45,
   "metadata": {},
   "outputs": [],
   "source": [
    "\n",
    "\n",
    "\n",
    "def construct_tensor(data, shape):\n",
    "    date = [1,2,3,4,5,6]\n",
    "    if len(shape) == 0:\n",
    "        return []\n",
    "    else:\n",
    "        tensor = []\n",
    "        for i in range(shape[0]):\n",
    "            \n",
    "                print(shape[1:])\n",
    "                if(len(shape) == 1):\n",
    "                    # set datapoint = data[0]\n",
    "                    datapoint = date[0]\n",
    "                    date = date[1:]\n",
    "                    print(\"DATAPOINT ---\" + str(datapoint))\n",
    "\n",
    "                tensor.append(construct_tensor(data, shape[1:]))\n",
    "            \n",
    "        return tensor\n"
   ]
  },
  {
   "cell_type": "code",
   "execution_count": 46,
   "metadata": {},
   "outputs": [
    {
     "name": "stdout",
     "output_type": "stream",
     "text": [
      "[2]\n",
      "[]\n",
      "DATAPOINT ---1\n",
      "[]\n",
      "DATAPOINT ---2\n",
      "[2]\n",
      "[]\n",
      "DATAPOINT ---1\n",
      "[]\n",
      "DATAPOINT ---2\n",
      "[2]\n",
      "[]\n",
      "DATAPOINT ---1\n",
      "[]\n",
      "DATAPOINT ---2\n"
     ]
    },
    {
     "data": {
      "text/plain": [
       "[[[], []], [[], []], [[], []]]"
      ]
     },
     "execution_count": 46,
     "metadata": {},
     "output_type": "execute_result"
    }
   ],
   "source": [
    "construct_tensor(\"helo\", [3,2])"
   ]
  },
  {
   "cell_type": "code",
   "execution_count": null,
   "metadata": {},
   "outputs": [],
   "source": []
  },
  {
   "cell_type": "code",
   "execution_count": null,
   "metadata": {},
   "outputs": [],
   "source": []
  },
  {
   "cell_type": "code",
   "execution_count": null,
   "metadata": {},
   "outputs": [],
   "source": []
  },
  {
   "cell_type": "code",
   "execution_count": null,
   "metadata": {},
   "outputs": [],
   "source": []
  },
  {
   "cell_type": "code",
   "execution_count": null,
   "metadata": {},
   "outputs": [],
   "source": []
  },
  {
   "cell_type": "code",
   "execution_count": null,
   "metadata": {},
   "outputs": [],
   "source": []
  },
  {
   "cell_type": "code",
   "execution_count": null,
   "metadata": {},
   "outputs": [],
   "source": []
  },
  {
   "cell_type": "code",
   "execution_count": null,
   "metadata": {},
   "outputs": [],
   "source": []
  }
 ],
 "metadata": {
  "interpreter": {
   "hash": "ca49ff0ffe1808df299e2fa61a14697f92eb8fb3e9a660d64db98d3fdcc9e2a2"
  },
  "kernelspec": {
   "display_name": "Python 3.8.8 ('base')",
   "language": "python",
   "name": "python3"
  },
  "language_info": {
   "codemirror_mode": {
    "name": "ipython",
    "version": 3
   },
   "file_extension": ".py",
   "mimetype": "text/x-python",
   "name": "python",
   "nbconvert_exporter": "python",
   "pygments_lexer": "ipython3",
   "version": "3.8.8"
  },
  "orig_nbformat": 4
 },
 "nbformat": 4,
 "nbformat_minor": 2
}
